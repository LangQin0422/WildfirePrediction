{
    "cells": [
        {
            "cell_type": "markdown",
            "source": [
                "# Machine Learning Examples\n",
                "### Lang Qin\n",
                "- This demonstration will cover 3 machine learning algorithms: **RidgeClassifier, RandomForestClassifier, KNeighborsClassifier.**"
            ],
            "metadata": {}
        },
        {
            "cell_type": "markdown",
            "source": [
                "## Data Preparation\n",
                "Suppose we are going to predict the magnitude of the wildfire based on climate factors, and there is a data set containing a large number of recorded wildfire cases in the U.S.. \n",
                "\n",
                "\n",
                "Before we do real stuff on algorithms, we must prepare our data. Let's first take a look at our data set. "
            ],
            "metadata": {}
        },
        {
            "cell_type": "code",
            "execution_count": 67,
            "source": [
                "import pandas as pd\n",
                "\n",
                "file_directory = '/Users/langqin/Documents/Microsoft Intern/Task 1/FW_Veg_Rem_Combined.csv'\n",
                "\n",
                "raw = pd.read_csv(file_directory)\n",
                "# preview the top 5 rows of the dataset\n",
                "raw.head()"
            ],
            "outputs": [
                {
                    "output_type": "execute_result",
                    "data": {
                        "text/plain": [
                            "   Unnamed: 0  Unnamed: 0.1 fire_name  fire_size fire_size_class  \\\n",
                            "0           0             0       NaN       10.0               C   \n",
                            "1           1             1       NaN        3.0               B   \n",
                            "2           2             2       NaN       60.0               C   \n",
                            "3           3             3    WNA  1        1.0               B   \n",
                            "4           4             4       NaN        2.0               B   \n",
                            "\n",
                            "    stat_cause_descr   latitude   longitude state disc_clean_date  ...  \\\n",
                            "0  Missing/Undefined  18.105072  -66.753044    PR       2/11/2007  ...   \n",
                            "1              Arson  35.038330  -87.610000    TN      12/11/2006  ...   \n",
                            "2              Arson  34.947800  -88.722500    MS       2/29/2004  ...   \n",
                            "3     Debris Burning  39.641400 -119.308300    NV        6/6/2005  ...   \n",
                            "4      Miscellaneous  30.700600  -90.591400    LA       9/22/1999  ...   \n",
                            "\n",
                            "  Wind_cont Hum_pre_30 Hum_pre_15  Hum_pre_7   Hum_cont Prec_pre_30  \\\n",
                            "0  3.250413  78.216590  76.793750  76.381579  78.724370         0.0   \n",
                            "1  2.122320  70.840000  65.858911  55.505882  81.682678        59.8   \n",
                            "2  3.369050  75.531629  75.868613  76.812834  65.063800       168.8   \n",
                            "3  0.000000  44.778429  37.140811  35.353846   0.000000        10.4   \n",
                            "4 -1.000000  -1.000000  -1.000000  -1.000000  -1.000000        -1.0   \n",
                            "\n",
                            "   Prec_pre_15 Prec_pre_7 Prec_cont  remoteness  \n",
                            "0          0.0        0.0       0.0    0.017923  \n",
                            "1          8.4        0.0      86.8    0.184355  \n",
                            "2         42.2       18.1     124.5    0.194544  \n",
                            "3          7.2        0.0       0.0    0.487447  \n",
                            "4         -1.0       -1.0      -1.0    0.214633  \n",
                            "\n",
                            "[5 rows x 43 columns]"
                        ],
                        "text/html": [
                            "<div>\n",
                            "<style scoped>\n",
                            "    .dataframe tbody tr th:only-of-type {\n",
                            "        vertical-align: middle;\n",
                            "    }\n",
                            "\n",
                            "    .dataframe tbody tr th {\n",
                            "        vertical-align: top;\n",
                            "    }\n",
                            "\n",
                            "    .dataframe thead th {\n",
                            "        text-align: right;\n",
                            "    }\n",
                            "</style>\n",
                            "<table border=\"1\" class=\"dataframe\">\n",
                            "  <thead>\n",
                            "    <tr style=\"text-align: right;\">\n",
                            "      <th></th>\n",
                            "      <th>Unnamed: 0</th>\n",
                            "      <th>Unnamed: 0.1</th>\n",
                            "      <th>fire_name</th>\n",
                            "      <th>fire_size</th>\n",
                            "      <th>fire_size_class</th>\n",
                            "      <th>stat_cause_descr</th>\n",
                            "      <th>latitude</th>\n",
                            "      <th>longitude</th>\n",
                            "      <th>state</th>\n",
                            "      <th>disc_clean_date</th>\n",
                            "      <th>...</th>\n",
                            "      <th>Wind_cont</th>\n",
                            "      <th>Hum_pre_30</th>\n",
                            "      <th>Hum_pre_15</th>\n",
                            "      <th>Hum_pre_7</th>\n",
                            "      <th>Hum_cont</th>\n",
                            "      <th>Prec_pre_30</th>\n",
                            "      <th>Prec_pre_15</th>\n",
                            "      <th>Prec_pre_7</th>\n",
                            "      <th>Prec_cont</th>\n",
                            "      <th>remoteness</th>\n",
                            "    </tr>\n",
                            "  </thead>\n",
                            "  <tbody>\n",
                            "    <tr>\n",
                            "      <th>0</th>\n",
                            "      <td>0</td>\n",
                            "      <td>0</td>\n",
                            "      <td>NaN</td>\n",
                            "      <td>10.0</td>\n",
                            "      <td>C</td>\n",
                            "      <td>Missing/Undefined</td>\n",
                            "      <td>18.105072</td>\n",
                            "      <td>-66.753044</td>\n",
                            "      <td>PR</td>\n",
                            "      <td>2/11/2007</td>\n",
                            "      <td>...</td>\n",
                            "      <td>3.250413</td>\n",
                            "      <td>78.216590</td>\n",
                            "      <td>76.793750</td>\n",
                            "      <td>76.381579</td>\n",
                            "      <td>78.724370</td>\n",
                            "      <td>0.0</td>\n",
                            "      <td>0.0</td>\n",
                            "      <td>0.0</td>\n",
                            "      <td>0.0</td>\n",
                            "      <td>0.017923</td>\n",
                            "    </tr>\n",
                            "    <tr>\n",
                            "      <th>1</th>\n",
                            "      <td>1</td>\n",
                            "      <td>1</td>\n",
                            "      <td>NaN</td>\n",
                            "      <td>3.0</td>\n",
                            "      <td>B</td>\n",
                            "      <td>Arson</td>\n",
                            "      <td>35.038330</td>\n",
                            "      <td>-87.610000</td>\n",
                            "      <td>TN</td>\n",
                            "      <td>12/11/2006</td>\n",
                            "      <td>...</td>\n",
                            "      <td>2.122320</td>\n",
                            "      <td>70.840000</td>\n",
                            "      <td>65.858911</td>\n",
                            "      <td>55.505882</td>\n",
                            "      <td>81.682678</td>\n",
                            "      <td>59.8</td>\n",
                            "      <td>8.4</td>\n",
                            "      <td>0.0</td>\n",
                            "      <td>86.8</td>\n",
                            "      <td>0.184355</td>\n",
                            "    </tr>\n",
                            "    <tr>\n",
                            "      <th>2</th>\n",
                            "      <td>2</td>\n",
                            "      <td>2</td>\n",
                            "      <td>NaN</td>\n",
                            "      <td>60.0</td>\n",
                            "      <td>C</td>\n",
                            "      <td>Arson</td>\n",
                            "      <td>34.947800</td>\n",
                            "      <td>-88.722500</td>\n",
                            "      <td>MS</td>\n",
                            "      <td>2/29/2004</td>\n",
                            "      <td>...</td>\n",
                            "      <td>3.369050</td>\n",
                            "      <td>75.531629</td>\n",
                            "      <td>75.868613</td>\n",
                            "      <td>76.812834</td>\n",
                            "      <td>65.063800</td>\n",
                            "      <td>168.8</td>\n",
                            "      <td>42.2</td>\n",
                            "      <td>18.1</td>\n",
                            "      <td>124.5</td>\n",
                            "      <td>0.194544</td>\n",
                            "    </tr>\n",
                            "    <tr>\n",
                            "      <th>3</th>\n",
                            "      <td>3</td>\n",
                            "      <td>3</td>\n",
                            "      <td>WNA  1</td>\n",
                            "      <td>1.0</td>\n",
                            "      <td>B</td>\n",
                            "      <td>Debris Burning</td>\n",
                            "      <td>39.641400</td>\n",
                            "      <td>-119.308300</td>\n",
                            "      <td>NV</td>\n",
                            "      <td>6/6/2005</td>\n",
                            "      <td>...</td>\n",
                            "      <td>0.000000</td>\n",
                            "      <td>44.778429</td>\n",
                            "      <td>37.140811</td>\n",
                            "      <td>35.353846</td>\n",
                            "      <td>0.000000</td>\n",
                            "      <td>10.4</td>\n",
                            "      <td>7.2</td>\n",
                            "      <td>0.0</td>\n",
                            "      <td>0.0</td>\n",
                            "      <td>0.487447</td>\n",
                            "    </tr>\n",
                            "    <tr>\n",
                            "      <th>4</th>\n",
                            "      <td>4</td>\n",
                            "      <td>4</td>\n",
                            "      <td>NaN</td>\n",
                            "      <td>2.0</td>\n",
                            "      <td>B</td>\n",
                            "      <td>Miscellaneous</td>\n",
                            "      <td>30.700600</td>\n",
                            "      <td>-90.591400</td>\n",
                            "      <td>LA</td>\n",
                            "      <td>9/22/1999</td>\n",
                            "      <td>...</td>\n",
                            "      <td>-1.000000</td>\n",
                            "      <td>-1.000000</td>\n",
                            "      <td>-1.000000</td>\n",
                            "      <td>-1.000000</td>\n",
                            "      <td>-1.000000</td>\n",
                            "      <td>-1.0</td>\n",
                            "      <td>-1.0</td>\n",
                            "      <td>-1.0</td>\n",
                            "      <td>-1.0</td>\n",
                            "      <td>0.214633</td>\n",
                            "    </tr>\n",
                            "  </tbody>\n",
                            "</table>\n",
                            "<p>5 rows × 43 columns</p>\n",
                            "</div>"
                        ]
                    },
                    "metadata": {},
                    "execution_count": 67
                }
            ],
            "metadata": {}
        },
        {
            "cell_type": "markdown",
            "source": [
                "Observing the data sets, we see some irrelavant information in the front and serveral factors that correlated to the magnitude of the wilrawire. What we do next is to extract the valuable information. <br>\n",
                "\n",
                "In the U.S., California is the state \"known\" for wildfires. Since the magintude of wildfires is closely related to environmental and geographical factors, let's focus on cases in California. <br>\n",
                "\n",
                "Since our goal is to predict the magnitude of the wilrawire based on whether conditions, then we select columns named `fire_size`, `fire_size_class`, and columns of name with `Temp`, `Wind`, `Hum`, `Prec`. However, bearing the fact that wildfire tends to accumulate around places such as california "
            ],
            "metadata": {}
        },
        {
            "cell_type": "code",
            "execution_count": 68,
            "source": [
                "# select the columns\n",
                "raw = raw.loc[raw['state']=='CA']\n",
                "\n",
                "frames = [raw['fire_size'], raw['fire_size_class'], raw.loc[:, 'Temp_pre_30':'Prec_cont']]\n",
                "# purify the data set with only selected columns\n",
                "raw = pd.concat(frames, axis=1)\n",
                "raw"
            ],
            "outputs": [
                {
                    "output_type": "execute_result",
                    "data": {
                        "text/plain": [
                            "       fire_size fire_size_class  Temp_pre_30  Temp_pre_15  Temp_pre_7  \\\n",
                            "78         450.0               E    27.850483    28.165097   28.499405   \n",
                            "88           3.0               B    19.685119    19.242174   19.495294   \n",
                            "93           1.0               B    -1.000000    -1.000000   -1.000000   \n",
                            "123          3.0               B    33.901235    35.444444   35.107143   \n",
                            "159        200.0               D    23.892857    22.357143   21.400000   \n",
                            "...          ...             ...          ...          ...         ...   \n",
                            "55354     4000.0               F    -1.000000    -1.000000   -1.000000   \n",
                            "55363    70868.0               G    -1.000000    -1.000000   -1.000000   \n",
                            "55364     5702.0               G    28.425403    28.425403   28.166667   \n",
                            "55365     3261.0               F    -1.000000    -1.000000   -1.000000   \n",
                            "55366    76067.0               G    21.590225    21.312500   21.963095   \n",
                            "\n",
                            "       Temp_cont  Wind_pre_30  Wind_pre_15  Wind_pre_7  Wind_cont  Hum_pre_30  \\\n",
                            "78     33.900000     2.580000     2.664543    2.769643   2.237500   44.706207   \n",
                            "88     19.063744     3.893413     3.755263    3.401190   3.751422   67.688935   \n",
                            "93     -1.000000    -1.000000    -1.000000   -1.000000  -1.000000   -1.000000   \n",
                            "123    34.500000     4.684711     4.325000    4.509091   4.572222    0.000000   \n",
                            "159    22.444444     1.303571     1.092857    2.040000   1.140741    0.000000   \n",
                            "...          ...          ...          ...         ...        ...         ...   \n",
                            "55354  -1.000000    -1.000000    -1.000000   -1.000000  -1.000000   -1.000000   \n",
                            "55363  -1.000000    -1.000000    -1.000000   -1.000000  -1.000000   -1.000000   \n",
                            "55364  27.646067     2.649395     2.649395    2.667722   2.529158   43.755556   \n",
                            "55365  -1.000000    -1.000000    -1.000000   -1.000000  -1.000000   -1.000000   \n",
                            "55366  19.016883     1.795485     1.628065    1.036905   1.208073   50.521912   \n",
                            "\n",
                            "       Hum_pre_15  Hum_pre_7   Hum_cont  Prec_pre_30  Prec_pre_15  Prec_pre_7  \\\n",
                            "78      42.983379  49.000000  39.375000          0.0          0.0         0.0   \n",
                            "88      68.160550  64.461538  66.811705          0.0          0.0         0.0   \n",
                            "93      -1.000000  -1.000000  -1.000000         -1.0         -1.0        -1.0   \n",
                            "123      0.000000   0.000000   0.000000          0.0          0.0         0.0   \n",
                            "159      0.000000   0.000000   0.000000          0.0          0.0         0.0   \n",
                            "...           ...        ...        ...          ...          ...         ...   \n",
                            "55354   -1.000000  -1.000000  -1.000000         -1.0         -1.0        -1.0   \n",
                            "55363   -1.000000  -1.000000  -1.000000         -1.0         -1.0        -1.0   \n",
                            "55364   43.755556  44.443975  35.924406          0.0          0.0         0.0   \n",
                            "55365   -1.000000  -1.000000  -1.000000         -1.0         -1.0        -1.0   \n",
                            "55366   46.310627  37.178571  58.063802          0.3          0.3         0.0   \n",
                            "\n",
                            "       Prec_cont  \n",
                            "78           0.0  \n",
                            "88           0.0  \n",
                            "93          -1.0  \n",
                            "123          0.0  \n",
                            "159          0.0  \n",
                            "...          ...  \n",
                            "55354       -1.0  \n",
                            "55363       -1.0  \n",
                            "55364        0.0  \n",
                            "55365       -1.0  \n",
                            "55366       18.8  \n",
                            "\n",
                            "[3847 rows x 18 columns]"
                        ],
                        "text/html": [
                            "<div>\n",
                            "<style scoped>\n",
                            "    .dataframe tbody tr th:only-of-type {\n",
                            "        vertical-align: middle;\n",
                            "    }\n",
                            "\n",
                            "    .dataframe tbody tr th {\n",
                            "        vertical-align: top;\n",
                            "    }\n",
                            "\n",
                            "    .dataframe thead th {\n",
                            "        text-align: right;\n",
                            "    }\n",
                            "</style>\n",
                            "<table border=\"1\" class=\"dataframe\">\n",
                            "  <thead>\n",
                            "    <tr style=\"text-align: right;\">\n",
                            "      <th></th>\n",
                            "      <th>fire_size</th>\n",
                            "      <th>fire_size_class</th>\n",
                            "      <th>Temp_pre_30</th>\n",
                            "      <th>Temp_pre_15</th>\n",
                            "      <th>Temp_pre_7</th>\n",
                            "      <th>Temp_cont</th>\n",
                            "      <th>Wind_pre_30</th>\n",
                            "      <th>Wind_pre_15</th>\n",
                            "      <th>Wind_pre_7</th>\n",
                            "      <th>Wind_cont</th>\n",
                            "      <th>Hum_pre_30</th>\n",
                            "      <th>Hum_pre_15</th>\n",
                            "      <th>Hum_pre_7</th>\n",
                            "      <th>Hum_cont</th>\n",
                            "      <th>Prec_pre_30</th>\n",
                            "      <th>Prec_pre_15</th>\n",
                            "      <th>Prec_pre_7</th>\n",
                            "      <th>Prec_cont</th>\n",
                            "    </tr>\n",
                            "  </thead>\n",
                            "  <tbody>\n",
                            "    <tr>\n",
                            "      <th>78</th>\n",
                            "      <td>450.0</td>\n",
                            "      <td>E</td>\n",
                            "      <td>27.850483</td>\n",
                            "      <td>28.165097</td>\n",
                            "      <td>28.499405</td>\n",
                            "      <td>33.900000</td>\n",
                            "      <td>2.580000</td>\n",
                            "      <td>2.664543</td>\n",
                            "      <td>2.769643</td>\n",
                            "      <td>2.237500</td>\n",
                            "      <td>44.706207</td>\n",
                            "      <td>42.983379</td>\n",
                            "      <td>49.000000</td>\n",
                            "      <td>39.375000</td>\n",
                            "      <td>0.0</td>\n",
                            "      <td>0.0</td>\n",
                            "      <td>0.0</td>\n",
                            "      <td>0.0</td>\n",
                            "    </tr>\n",
                            "    <tr>\n",
                            "      <th>88</th>\n",
                            "      <td>3.0</td>\n",
                            "      <td>B</td>\n",
                            "      <td>19.685119</td>\n",
                            "      <td>19.242174</td>\n",
                            "      <td>19.495294</td>\n",
                            "      <td>19.063744</td>\n",
                            "      <td>3.893413</td>\n",
                            "      <td>3.755263</td>\n",
                            "      <td>3.401190</td>\n",
                            "      <td>3.751422</td>\n",
                            "      <td>67.688935</td>\n",
                            "      <td>68.160550</td>\n",
                            "      <td>64.461538</td>\n",
                            "      <td>66.811705</td>\n",
                            "      <td>0.0</td>\n",
                            "      <td>0.0</td>\n",
                            "      <td>0.0</td>\n",
                            "      <td>0.0</td>\n",
                            "    </tr>\n",
                            "    <tr>\n",
                            "      <th>93</th>\n",
                            "      <td>1.0</td>\n",
                            "      <td>B</td>\n",
                            "      <td>-1.000000</td>\n",
                            "      <td>-1.000000</td>\n",
                            "      <td>-1.000000</td>\n",
                            "      <td>-1.000000</td>\n",
                            "      <td>-1.000000</td>\n",
                            "      <td>-1.000000</td>\n",
                            "      <td>-1.000000</td>\n",
                            "      <td>-1.000000</td>\n",
                            "      <td>-1.000000</td>\n",
                            "      <td>-1.000000</td>\n",
                            "      <td>-1.000000</td>\n",
                            "      <td>-1.000000</td>\n",
                            "      <td>-1.0</td>\n",
                            "      <td>-1.0</td>\n",
                            "      <td>-1.0</td>\n",
                            "      <td>-1.0</td>\n",
                            "    </tr>\n",
                            "    <tr>\n",
                            "      <th>123</th>\n",
                            "      <td>3.0</td>\n",
                            "      <td>B</td>\n",
                            "      <td>33.901235</td>\n",
                            "      <td>35.444444</td>\n",
                            "      <td>35.107143</td>\n",
                            "      <td>34.500000</td>\n",
                            "      <td>4.684711</td>\n",
                            "      <td>4.325000</td>\n",
                            "      <td>4.509091</td>\n",
                            "      <td>4.572222</td>\n",
                            "      <td>0.000000</td>\n",
                            "      <td>0.000000</td>\n",
                            "      <td>0.000000</td>\n",
                            "      <td>0.000000</td>\n",
                            "      <td>0.0</td>\n",
                            "      <td>0.0</td>\n",
                            "      <td>0.0</td>\n",
                            "      <td>0.0</td>\n",
                            "    </tr>\n",
                            "    <tr>\n",
                            "      <th>159</th>\n",
                            "      <td>200.0</td>\n",
                            "      <td>D</td>\n",
                            "      <td>23.892857</td>\n",
                            "      <td>22.357143</td>\n",
                            "      <td>21.400000</td>\n",
                            "      <td>22.444444</td>\n",
                            "      <td>1.303571</td>\n",
                            "      <td>1.092857</td>\n",
                            "      <td>2.040000</td>\n",
                            "      <td>1.140741</td>\n",
                            "      <td>0.000000</td>\n",
                            "      <td>0.000000</td>\n",
                            "      <td>0.000000</td>\n",
                            "      <td>0.000000</td>\n",
                            "      <td>0.0</td>\n",
                            "      <td>0.0</td>\n",
                            "      <td>0.0</td>\n",
                            "      <td>0.0</td>\n",
                            "    </tr>\n",
                            "    <tr>\n",
                            "      <th>...</th>\n",
                            "      <td>...</td>\n",
                            "      <td>...</td>\n",
                            "      <td>...</td>\n",
                            "      <td>...</td>\n",
                            "      <td>...</td>\n",
                            "      <td>...</td>\n",
                            "      <td>...</td>\n",
                            "      <td>...</td>\n",
                            "      <td>...</td>\n",
                            "      <td>...</td>\n",
                            "      <td>...</td>\n",
                            "      <td>...</td>\n",
                            "      <td>...</td>\n",
                            "      <td>...</td>\n",
                            "      <td>...</td>\n",
                            "      <td>...</td>\n",
                            "      <td>...</td>\n",
                            "      <td>...</td>\n",
                            "    </tr>\n",
                            "    <tr>\n",
                            "      <th>55354</th>\n",
                            "      <td>4000.0</td>\n",
                            "      <td>F</td>\n",
                            "      <td>-1.000000</td>\n",
                            "      <td>-1.000000</td>\n",
                            "      <td>-1.000000</td>\n",
                            "      <td>-1.000000</td>\n",
                            "      <td>-1.000000</td>\n",
                            "      <td>-1.000000</td>\n",
                            "      <td>-1.000000</td>\n",
                            "      <td>-1.000000</td>\n",
                            "      <td>-1.000000</td>\n",
                            "      <td>-1.000000</td>\n",
                            "      <td>-1.000000</td>\n",
                            "      <td>-1.000000</td>\n",
                            "      <td>-1.0</td>\n",
                            "      <td>-1.0</td>\n",
                            "      <td>-1.0</td>\n",
                            "      <td>-1.0</td>\n",
                            "    </tr>\n",
                            "    <tr>\n",
                            "      <th>55363</th>\n",
                            "      <td>70868.0</td>\n",
                            "      <td>G</td>\n",
                            "      <td>-1.000000</td>\n",
                            "      <td>-1.000000</td>\n",
                            "      <td>-1.000000</td>\n",
                            "      <td>-1.000000</td>\n",
                            "      <td>-1.000000</td>\n",
                            "      <td>-1.000000</td>\n",
                            "      <td>-1.000000</td>\n",
                            "      <td>-1.000000</td>\n",
                            "      <td>-1.000000</td>\n",
                            "      <td>-1.000000</td>\n",
                            "      <td>-1.000000</td>\n",
                            "      <td>-1.000000</td>\n",
                            "      <td>-1.0</td>\n",
                            "      <td>-1.0</td>\n",
                            "      <td>-1.0</td>\n",
                            "      <td>-1.0</td>\n",
                            "    </tr>\n",
                            "    <tr>\n",
                            "      <th>55364</th>\n",
                            "      <td>5702.0</td>\n",
                            "      <td>G</td>\n",
                            "      <td>28.425403</td>\n",
                            "      <td>28.425403</td>\n",
                            "      <td>28.166667</td>\n",
                            "      <td>27.646067</td>\n",
                            "      <td>2.649395</td>\n",
                            "      <td>2.649395</td>\n",
                            "      <td>2.667722</td>\n",
                            "      <td>2.529158</td>\n",
                            "      <td>43.755556</td>\n",
                            "      <td>43.755556</td>\n",
                            "      <td>44.443975</td>\n",
                            "      <td>35.924406</td>\n",
                            "      <td>0.0</td>\n",
                            "      <td>0.0</td>\n",
                            "      <td>0.0</td>\n",
                            "      <td>0.0</td>\n",
                            "    </tr>\n",
                            "    <tr>\n",
                            "      <th>55365</th>\n",
                            "      <td>3261.0</td>\n",
                            "      <td>F</td>\n",
                            "      <td>-1.000000</td>\n",
                            "      <td>-1.000000</td>\n",
                            "      <td>-1.000000</td>\n",
                            "      <td>-1.000000</td>\n",
                            "      <td>-1.000000</td>\n",
                            "      <td>-1.000000</td>\n",
                            "      <td>-1.000000</td>\n",
                            "      <td>-1.000000</td>\n",
                            "      <td>-1.000000</td>\n",
                            "      <td>-1.000000</td>\n",
                            "      <td>-1.000000</td>\n",
                            "      <td>-1.000000</td>\n",
                            "      <td>-1.0</td>\n",
                            "      <td>-1.0</td>\n",
                            "      <td>-1.0</td>\n",
                            "      <td>-1.0</td>\n",
                            "    </tr>\n",
                            "    <tr>\n",
                            "      <th>55366</th>\n",
                            "      <td>76067.0</td>\n",
                            "      <td>G</td>\n",
                            "      <td>21.590225</td>\n",
                            "      <td>21.312500</td>\n",
                            "      <td>21.963095</td>\n",
                            "      <td>19.016883</td>\n",
                            "      <td>1.795485</td>\n",
                            "      <td>1.628065</td>\n",
                            "      <td>1.036905</td>\n",
                            "      <td>1.208073</td>\n",
                            "      <td>50.521912</td>\n",
                            "      <td>46.310627</td>\n",
                            "      <td>37.178571</td>\n",
                            "      <td>58.063802</td>\n",
                            "      <td>0.3</td>\n",
                            "      <td>0.3</td>\n",
                            "      <td>0.0</td>\n",
                            "      <td>18.8</td>\n",
                            "    </tr>\n",
                            "  </tbody>\n",
                            "</table>\n",
                            "<p>3847 rows × 18 columns</p>\n",
                            "</div>"
                        ]
                    },
                    "metadata": {},
                    "execution_count": 68
                }
            ],
            "metadata": {}
        },
        {
            "cell_type": "markdown",
            "source": [
                "Let's take a closer look at the data. In row 4, there are `-1`s. This means the corresponding information is missing. So, how much such information is missing? We use `seaborn` and `numpy` to visualize it."
            ],
            "metadata": {}
        },
        {
            "cell_type": "code",
            "execution_count": 69,
            "source": [
                "import seaborn as sns\n",
                "import numpy as np\n",
                "\n",
                "# replace all 0 or -1 by NaN\n",
                "raw = raw.replace(0, np.nan)\n",
                "raw = raw.replace(-1, np.nan)\n",
                "# plot the heat map\n",
                "cols = raw.columns[:18]\n",
                "colours = ['cadetblue', 'lightcoral']\n",
                "sns.heatmap(raw[cols].isnull(), cmap=sns.color_palette(colours), \n",
                "            cbar=False).set(title='Specify Missing Data')"
            ],
            "outputs": [
                {
                    "output_type": "execute_result",
                    "data": {
                        "text/plain": [
                            "[Text(0.5, 1.0, 'Specify Missing Data')]"
                        ]
                    },
                    "metadata": {},
                    "execution_count": 69
                },
                {
                    "output_type": "display_data",
                    "data": {
                        "text/plain": [
                            "<Figure size 432x288 with 1 Axes>"
                        ],
                        "image/png": "[encoded data removed]"
                    },
                    "metadata": {
                        "needs_background": "light"
                    }
                }
            ],
            "metadata": {}
        },
        {
            "cell_type": "markdown",
            "source": [
                "Since there are a lot of missing data in precipitation aspect, we ignore this factor. In addition, to extract as most and relative information as possible, we choose to focus on indices 7 days prior to the wildfire."
            ],
            "metadata": {}
        },
        {
            "cell_type": "code",
            "execution_count": 70,
            "source": [
                "select_col = [raw['fire_size'], raw['fire_size_class'], raw['Temp_pre_7'], \n",
                "              raw['Wind_pre_7'], raw['Hum_pre_7']]\n",
                "\n",
                "# drop all rows with NaN\n",
                "df = pd.concat(select_col, axis=1).dropna().reset_index()\n",
                "\n",
                "# view current data set\n",
                "df"
            ],
            "outputs": [
                {
                    "output_type": "execute_result",
                    "data": {
                        "text/plain": [
                            "      index  fire_size fire_size_class  Temp_pre_7  Wind_pre_7  Hum_pre_7\n",
                            "0        78      450.0               E   28.499405    2.769643  49.000000\n",
                            "1        88        3.0               B   19.495294    3.401190  64.461538\n",
                            "2       192        1.0               B   15.781065    1.110355  58.560897\n",
                            "3       267        1.0               B    4.586826    0.650699  63.141717\n",
                            "4       274        1.3               B   17.417453    2.402830  50.336788\n",
                            "...     ...        ...             ...         ...         ...        ...\n",
                            "2457  55197     6533.0               G    4.676829    2.454878  42.447154\n",
                            "2458  55198     8051.0               G   26.402381    3.169643  45.226190\n",
                            "2459  55199    10570.0               G   21.403933    2.075000  33.509202\n",
                            "2460  55364     5702.0               G   28.166667    2.667722  44.443975\n",
                            "2461  55366    76067.0               G   21.963095    1.036905  37.178571\n",
                            "\n",
                            "[2462 rows x 6 columns]"
                        ],
                        "text/html": [
                            "<div>\n",
                            "<style scoped>\n",
                            "    .dataframe tbody tr th:only-of-type {\n",
                            "        vertical-align: middle;\n",
                            "    }\n",
                            "\n",
                            "    .dataframe tbody tr th {\n",
                            "        vertical-align: top;\n",
                            "    }\n",
                            "\n",
                            "    .dataframe thead th {\n",
                            "        text-align: right;\n",
                            "    }\n",
                            "</style>\n",
                            "<table border=\"1\" class=\"dataframe\">\n",
                            "  <thead>\n",
                            "    <tr style=\"text-align: right;\">\n",
                            "      <th></th>\n",
                            "      <th>index</th>\n",
                            "      <th>fire_size</th>\n",
                            "      <th>fire_size_class</th>\n",
                            "      <th>Temp_pre_7</th>\n",
                            "      <th>Wind_pre_7</th>\n",
                            "      <th>Hum_pre_7</th>\n",
                            "    </tr>\n",
                            "  </thead>\n",
                            "  <tbody>\n",
                            "    <tr>\n",
                            "      <th>0</th>\n",
                            "      <td>78</td>\n",
                            "      <td>450.0</td>\n",
                            "      <td>E</td>\n",
                            "      <td>28.499405</td>\n",
                            "      <td>2.769643</td>\n",
                            "      <td>49.000000</td>\n",
                            "    </tr>\n",
                            "    <tr>\n",
                            "      <th>1</th>\n",
                            "      <td>88</td>\n",
                            "      <td>3.0</td>\n",
                            "      <td>B</td>\n",
                            "      <td>19.495294</td>\n",
                            "      <td>3.401190</td>\n",
                            "      <td>64.461538</td>\n",
                            "    </tr>\n",
                            "    <tr>\n",
                            "      <th>2</th>\n",
                            "      <td>192</td>\n",
                            "      <td>1.0</td>\n",
                            "      <td>B</td>\n",
                            "      <td>15.781065</td>\n",
                            "      <td>1.110355</td>\n",
                            "      <td>58.560897</td>\n",
                            "    </tr>\n",
                            "    <tr>\n",
                            "      <th>3</th>\n",
                            "      <td>267</td>\n",
                            "      <td>1.0</td>\n",
                            "      <td>B</td>\n",
                            "      <td>4.586826</td>\n",
                            "      <td>0.650699</td>\n",
                            "      <td>63.141717</td>\n",
                            "    </tr>\n",
                            "    <tr>\n",
                            "      <th>4</th>\n",
                            "      <td>274</td>\n",
                            "      <td>1.3</td>\n",
                            "      <td>B</td>\n",
                            "      <td>17.417453</td>\n",
                            "      <td>2.402830</td>\n",
                            "      <td>50.336788</td>\n",
                            "    </tr>\n",
                            "    <tr>\n",
                            "      <th>...</th>\n",
                            "      <td>...</td>\n",
                            "      <td>...</td>\n",
                            "      <td>...</td>\n",
                            "      <td>...</td>\n",
                            "      <td>...</td>\n",
                            "      <td>...</td>\n",
                            "    </tr>\n",
                            "    <tr>\n",
                            "      <th>2457</th>\n",
                            "      <td>55197</td>\n",
                            "      <td>6533.0</td>\n",
                            "      <td>G</td>\n",
                            "      <td>4.676829</td>\n",
                            "      <td>2.454878</td>\n",
                            "      <td>42.447154</td>\n",
                            "    </tr>\n",
                            "    <tr>\n",
                            "      <th>2458</th>\n",
                            "      <td>55198</td>\n",
                            "      <td>8051.0</td>\n",
                            "      <td>G</td>\n",
                            "      <td>26.402381</td>\n",
                            "      <td>3.169643</td>\n",
                            "      <td>45.226190</td>\n",
                            "    </tr>\n",
                            "    <tr>\n",
                            "      <th>2459</th>\n",
                            "      <td>55199</td>\n",
                            "      <td>10570.0</td>\n",
                            "      <td>G</td>\n",
                            "      <td>21.403933</td>\n",
                            "      <td>2.075000</td>\n",
                            "      <td>33.509202</td>\n",
                            "    </tr>\n",
                            "    <tr>\n",
                            "      <th>2460</th>\n",
                            "      <td>55364</td>\n",
                            "      <td>5702.0</td>\n",
                            "      <td>G</td>\n",
                            "      <td>28.166667</td>\n",
                            "      <td>2.667722</td>\n",
                            "      <td>44.443975</td>\n",
                            "    </tr>\n",
                            "    <tr>\n",
                            "      <th>2461</th>\n",
                            "      <td>55366</td>\n",
                            "      <td>76067.0</td>\n",
                            "      <td>G</td>\n",
                            "      <td>21.963095</td>\n",
                            "      <td>1.036905</td>\n",
                            "      <td>37.178571</td>\n",
                            "    </tr>\n",
                            "  </tbody>\n",
                            "</table>\n",
                            "<p>2462 rows × 6 columns</p>\n",
                            "</div>"
                        ]
                    },
                    "metadata": {},
                    "execution_count": 70
                }
            ],
            "metadata": {}
        },
        {
            "cell_type": "markdown",
            "source": [
                "Now our data set is cleaned. The next step is to choose the algorithms. Notice that the range of the numerical indicator of the magnitude of the wildfires `fire_size` is **very large**: [1.0, 760671.0]. However, our variance of climate indicators are comparatively **very small**. Thus, to determine the numerical magnitude (`fire_size`) through regression is not a wise choice. Otherwise, we need to \"magnify\" the very small amount of changes in climate indicators to describe the variations in `fire_size`.<br>\n",
                "\n",
                "Hence, we turn to classifications. Here, we do three classification models: **RidgeClassifier, RandomForestClassifier, KNeighborsClassifier.** <br>"
            ],
            "metadata": {}
        },
        {
            "cell_type": "markdown",
            "source": [
                "## Train the Models\n",
                "\n",
                "Here is the most important rule in all of machine learning: **You need to set aside some data that you never look at while training to assess how your model will do in the future.**\n",
                "\n",
                "Because this is so important, `sklearn` provides a function called `train_test_split` to break your dataset up (randomly) into a training set and test set. The cell below shows how to call it."
            ],
            "metadata": {}
        },
        {
            "cell_type": "code",
            "execution_count": 71,
            "source": [
                "from sklearn.model_selection import train_test_split\n",
                "\n",
                "# select our features (factors) and labels (the one to be predicted)\n",
                "features = df.loc[:, 'Temp_pre_7':'Hum_pre_7']\n",
                "labels = df['fire_size_class']\n",
                "\n",
                "# take 0.8 of our data to train the model, 0.2 to test\n",
                "features_train, features_test, labels_train, labels_test = \\\n",
                "    train_test_split(features, labels, test_size=0.2)\n",
                "\n",
                "# Print the number of training examples and the number of testing examples\n",
                "print(len(features_train), len(features_test))"
            ],
            "outputs": [
                {
                    "output_type": "stream",
                    "name": "stdout",
                    "text": [
                        "1969 493\n"
                    ]
                }
            ],
            "metadata": {}
        },
        {
            "cell_type": "markdown",
            "source": [
                "### **KNeighborsClassifier**\n",
                "Now we first look at KNeiborsClassifier.\n",
                "> "
            ],
            "metadata": {}
        },
        {
            "cell_type": "code",
            "execution_count": 72,
            "source": [
                "from sklearn.neighbors import KNeighborsClassifier\n",
                "\n",
                "# Create KNN classifier \n",
                "knn = KNeighborsClassifier(n_neighbors = 3)\n",
                "\n",
                "# Fit the classifier to the data\n",
                "knn.fit(features_train,labels_train)\n",
                "\n",
                "#check accuracy of our model on the test data\n",
                "knn.score(features_test, labels_test)"
            ],
            "outputs": [
                {
                    "output_type": "execute_result",
                    "data": {
                        "text/plain": [
                            "0.5963488843813387"
                        ]
                    },
                    "metadata": {},
                    "execution_count": 72
                }
            ],
            "metadata": {}
        },
        {
            "cell_type": "markdown",
            "source": [
                "Our accuracy is about 0.60, which is not very good. Let's play with the parameter `n_neighbors` to see if there will be any changes."
            ],
            "metadata": {}
        },
        {
            "cell_type": "code",
            "execution_count": 73,
            "source": [
                "# define the function that fit the model and test the accuracy\n",
                "def kneibor(num):\n",
                "    knn = KNeighborsClassifier(n_neighbors = num)\n",
                "    knn.fit(features_train,labels_train)\n",
                "    return knn.score(features_test, labels_test)\n",
                "\n",
                "\n",
                "# test serveral number of neighbors\n",
                "scores = []\n",
                "for i in range(1, 50):\n",
                "    scores.append(kneibor(i))\n",
                "\n",
                "## plot the scores v.s. number of neighbors\n",
                "import matplotlib.pyplot as plt\n",
                "\n",
                "# plot the plain graph\n",
                "plt.plot(range(1, 50), scores)\n",
                "\n",
                "plt.grid()  # add grid\n",
                "plt.xlabel(\"Number of Neighbors\")   # add xlabel\n",
                "plt.ylabel(\"Scores\")    # add ylabel\n",
                "\n",
                "# print the highest score\n",
                "max(scores)"
            ],
            "outputs": [
                {
                    "output_type": "execute_result",
                    "data": {
                        "text/plain": [
                            "0.6531440162271805"
                        ]
                    },
                    "metadata": {},
                    "execution_count": 73
                },
                {
                    "output_type": "display_data",
                    "data": {
                        "text/plain": [
                            "<Figure size 432x288 with 1 Axes>"
                        ],
                        "image/png": "[encoded data removed]"
                    },
                    "metadata": {
                        "needs_background": "light"
                    }
                }
            ],
            "metadata": {}
        },
        {
            "cell_type": "markdown",
            "source": [
                "From the above graph, we notice that our model is improving as `n_neighbors` increases. Then, it would be very nice if we play with the parameters when we do machine learning, which is called tuning. The accuracy score reaches the highest and stabilize for `n_neighbors >= 40` at around 0.65.<br> \n",
                "\n",
                "Apart from the parameter, is there any other way to improve our model? Of course, we will use **k-Fold Cross-Validation** to see if any improvement."
            ],
            "metadata": {}
        },
        {
            "cell_type": "code",
            "execution_count": 74,
            "source": [
                "from sklearn.model_selection import cross_val_score\n",
                "\n",
                "#create a new KNN model\n",
                "knn_cv = KNeighborsClassifier(n_neighbors=40)\n",
                "\n",
                "#train model with cv of 5 \n",
                "cv_scores = cross_val_score(knn_cv, features, labels, cv=5)\n",
                "\n",
                "#print each cv score (accuracy) and average them\n",
                "print(cv_scores)\n",
                "print('cv_scores mean:{}'.format(np.mean(cv_scores)))"
            ],
            "outputs": [
                {
                    "output_type": "stream",
                    "name": "stdout",
                    "text": [
                        "[0.65858586 0.65991903 0.66191446 0.66395112 0.66395112]\n",
                        "cv_scores mean:0.6616643175073875\n"
                    ]
                }
            ],
            "metadata": {}
        },
        {
            "cell_type": "markdown",
            "source": [
                "With Cross-Validation, we find our average score higher than the highest score of KNeibor it self. This has shown that **k-Fold Cross-Validation** is an improvement.\n",
                "\n",
                "Wait, the parameter `n_neighbors` we used is 40, unchanged for 5 cross validations. Don't forget our first method to \"tune\" the model is to play with `n_neighbors`. Now, we do it again, and it is called **Hyper Tuning**."
            ],
            "metadata": {}
        },
        {
            "cell_type": "code",
            "execution_count": 75,
            "source": [
                "from sklearn.model_selection import GridSearchCV\n",
                "\n",
                "# create a new KNeighborClassifier model\n",
                "knn_new = KNeighborsClassifier()\n",
                "\n",
                "# create a dictionary of values to test for n_neighbors\n",
                "param_grid = {'n_neighbors': np.arange(1, 50)}\n",
                "# We choose 5 to 50 because our previous trials show the trend that our accuracy will increase as n_neighbors grows.\n",
                "\n",
                "# use gridsearch to test all values for n_neighbors\n",
                "knn_gscv = GridSearchCV(knn_new, param_grid, cv=5)\n",
                "\n",
                "# train the model\n",
                "knn_gscv.fit(features, labels)\n",
                "\n",
                "# find the top performing n_neighbors value\n",
                "knn_gscv.best_params_"
            ],
            "outputs": [
                {
                    "output_type": "execute_result",
                    "data": {
                        "text/plain": [
                            "{'n_neighbors': 34}"
                        ]
                    },
                    "metadata": {},
                    "execution_count": 75
                }
            ],
            "metadata": {}
        },
        {
            "cell_type": "markdown",
            "source": [
                "Great, we obtain a different value of `n_neighbors = 34` than `40`. What about its performance?  "
            ],
            "metadata": {}
        },
        {
            "cell_type": "code",
            "execution_count": 76,
            "source": [
                "# find the average accuracy for the top performing value of n_neighbors\n",
                "knn_gscv.best_score_"
            ],
            "outputs": [
                {
                    "output_type": "execute_result",
                    "data": {
                        "text/plain": [
                            "0.6620633631194152"
                        ]
                    },
                    "metadata": {},
                    "execution_count": 76
                }
            ],
            "metadata": {}
        },
        {
            "cell_type": "markdown",
            "source": [
                "Well, well, well. The overall performance seems unchanged, only merely 0.01 improvement. So, we might ask: whether or not KNeighborClassifer is suitable for this data set? Let's try another algorithm. <br>\n",
                "\n",
                "### **RandomForestClassifier**"
            ],
            "metadata": {}
        },
        {
            "cell_type": "code",
            "execution_count": 77,
            "source": [
                "from sklearn.ensemble import RandomForestClassifier\n",
                "\n",
                "# import the library to compute the accuracy (another way)\n",
                "from sklearn import metrics\n",
                "\n",
                "# initialize the model\n",
                "clf = RandomForestClassifier(n_estimators=100)\n",
                "\n",
                "# train the model\n",
                "clf.fit(features_train, labels_train)\n",
                "\n",
                "# use the model to predict based on features_test\n",
                "pred = clf.predict(features_test)\n",
                "\n",
                "# compute the accuracy\n",
                "print(\"Test Score\", metrics.accuracy_score(labels_test, pred))"
            ],
            "outputs": [
                {
                    "output_type": "stream",
                    "name": "stdout",
                    "text": [
                        "Test Score 0.6531440162271805\n"
                    ]
                }
            ],
            "metadata": {}
        },
        {
            "cell_type": "markdown",
            "source": [
                "Our first trail with default settings gives accuracy of 0.64. It is more all less the same as kNeighborClassifier. Lets' try to see how can we tune the model. If we take a closer look at the initilizer of the model, we will see"
            ],
            "metadata": {}
        },
        {
            "cell_type": "code",
            "execution_count": 78,
            "source": [
                "print(clf.get_params())"
            ],
            "outputs": [
                {
                    "output_type": "stream",
                    "name": "stdout",
                    "text": [
                        "{'bootstrap': True, 'class_weight': None, 'criterion': 'gini', 'max_depth': None, 'max_features': 'auto', 'max_leaf_nodes': None, 'min_impurity_decrease': 0.0, 'min_impurity_split': None, 'min_samples_leaf': 1, 'min_samples_split': 2, 'min_weight_fraction_leaf': 0.0, 'n_estimators': 100, 'n_jobs': None, 'oob_score': False, 'random_state': None, 'verbose': 0, 'warm_start': False}\n"
                    ]
                }
            ],
            "metadata": {}
        },
        {
            "cell_type": "markdown",
            "source": [
                "Yes, there are a huge amount of paraemeters we could play with. In this example, we will focuse on these ones:\n",
                "- n_estimators: number of trees in the foreset,\n",
                "- max_features: max number of features considered for splitting a node,\n",
                "- max_depth: max number of levels in each decision tree,\n",
                "- min_samples_split: min number of data points placed in a node before the node is split,\n",
                "- min_samples_leaf: min number of data points allowed in a leaf node,\n",
                "- bootstrap: method for sampling data points (with or without replacement). <br>\n",
                "\n",
                "But, there are still so many of them. Don't worry! Don't forget something called **Cross Validation** we used in previous cells. We will use this fantasitic tool to **hyper tune** the model again. \n",
                "\n"
            ],
            "metadata": {}
        },
        {
            "cell_type": "code",
            "execution_count": 79,
            "source": [
                "from sklearn.model_selection import RandomizedSearchCV\n",
                "\n",
                "# number of trees in random forest\n",
                "n_estimators = range(100, 2001, 10)\n",
                "\n",
                "# number of features to consider at every split\n",
                "max_features = ['auto', 'sqrt']\n",
                "\n",
                "# maximum number of levels in tree\n",
                "max_depth = range(10, 111, 10)\n",
                "\n",
                "# minimum number of samples required to split a node\n",
                "min_samples_split = [2, 5, 10, 20]\n",
                "\n",
                "# minimum number of samples required at each leaf node\n",
                "min_samples_leaf = [1, 2, 4, 8]\n",
                "\n",
                "# method of selecting samples for training each tree\n",
                "bootstrap = [True, False]\n",
                "\n",
                "# combine the above settings into the one so called the random grid\n",
                "random_grid = {'n_estimators': n_estimators,\n",
                "               'max_features': max_features,\n",
                "               'max_depth': max_depth,\n",
                "               'min_samples_split': min_samples_split,\n",
                "               'min_samples_leaf': min_samples_leaf,\n",
                "               'bootstrap': bootstrap}\n",
                "\n",
                "print(random_grid)\n",
                "\n",
                "# Note: the official website of RandomForest Classifier provdies detailed explanation on the funciton of each parameter: \n",
                "# https://scikit-learn.org/stable/modules/generated/sklearn.ensemble.RandomForestClassifier.html "
            ],
            "outputs": [
                {
                    "output_type": "stream",
                    "name": "stdout",
                    "text": [
                        "{'n_estimators': range(100, 2001, 10), 'max_features': ['auto', 'sqrt'], 'max_depth': range(10, 111, 10), 'min_samples_split': [2, 5, 10, 20], 'min_samples_leaf': [1, 2, 4, 8], 'bootstrap': [True, False]}\n"
                    ]
                }
            ],
            "metadata": {}
        },
        {
            "cell_type": "markdown",
            "source": [
                "Per iteration, the algorithm will choose a difference combination of these paremeters. To sum up, there are 19 * 2 * 10 * 4 * 4 * 2 = 12,160 settings! However, the benefit of a random search is that we are not trying every combination, but selecting at random to sample a wide range of values. Let's do it!"
            ],
            "metadata": {}
        },
        {
            "cell_type": "code",
            "execution_count": 80,
            "source": [
                "# initilize the model to be tuned\n",
                "rf = RandomForestClassifier()\n",
                "\n",
                "# random search of parameters, using 5 fold cross validation, \n",
                "# search across 100 different combinations, and use all available cores\n",
                "rf_random = RandomizedSearchCV(estimator = rf, param_distributions = random_grid, \n",
                "                               n_iter = 100, cv = 3, verbose=2, n_jobs = -1)\n",
                "\n",
                "# train the random search model\n",
                "rf_random.fit(features_train, labels_train)"
            ],
            "outputs": [
                {
                    "output_type": "stream",
                    "name": "stdout",
                    "text": [
                        "Fitting 3 folds for each of 100 candidates, totalling 300 fits\n"
                    ]
                },
                {
                    "output_type": "stream",
                    "name": "stderr",
                    "text": [
                        "[Parallel(n_jobs=-1)]: Using backend LokyBackend with 8 concurrent workers.\n",
                        "[Parallel(n_jobs=-1)]: Done  25 tasks      | elapsed:   11.1s\n",
                        "[Parallel(n_jobs=-1)]: Done 146 tasks      | elapsed:   53.5s\n",
                        "[Parallel(n_jobs=-1)]: Done 300 out of 300 | elapsed:  1.9min finished\n"
                    ]
                },
                {
                    "output_type": "execute_result",
                    "data": {
                        "text/plain": [
                            "RandomizedSearchCV(cv=3, error_score='raise-deprecating',\n",
                            "                   estimator=RandomForestClassifier(bootstrap=True,\n",
                            "                                                    class_weight=None,\n",
                            "                                                    criterion='gini',\n",
                            "                                                    max_depth=None,\n",
                            "                                                    max_features='auto',\n",
                            "                                                    max_leaf_nodes=None,\n",
                            "                                                    min_impurity_decrease=0.0,\n",
                            "                                                    min_impurity_split=None,\n",
                            "                                                    min_samples_leaf=1,\n",
                            "                                                    min_samples_split=2,\n",
                            "                                                    min_weight_fraction_leaf=0.0,\n",
                            "                                                    n_estimators='warn',\n",
                            "                                                    n_jobs=None,\n",
                            "                                                    oob_sc...\n",
                            "                                                    warm_start=False),\n",
                            "                   iid='warn', n_iter=100, n_jobs=-1,\n",
                            "                   param_distributions={'bootstrap': [True, False],\n",
                            "                                        'max_depth': range(10, 111, 10),\n",
                            "                                        'max_features': ['auto', 'sqrt'],\n",
                            "                                        'min_samples_leaf': [1, 2, 4, 8],\n",
                            "                                        'min_samples_split': [2, 5, 10, 20],\n",
                            "                                        'n_estimators': range(100, 2001, 10)},\n",
                            "                   pre_dispatch='2*n_jobs', random_state=None, refit=True,\n",
                            "                   return_train_score=False, scoring=None, verbose=2)"
                        ]
                    },
                    "metadata": {},
                    "execution_count": 80
                }
            ],
            "metadata": {}
        },
        {
            "cell_type": "markdown",
            "source": [
                "Wow, that indeed takes some time to do such big amount of work. <br>\n",
                "\n",
                "Here we will introduce two most important parameters in RandomizedSearchCV:\n",
                "- `n_iter`: controls the number of different combinations to try (we used 100)\n",
                "- `cv`: the number of folds to use for cross validation (we used 3) <br>\n",
                "\n",
                "As we see, the more wider the search tree was, the more time it will take to complete the task. Machine learning is a field of trade-offs, and performance vs time is one of the most fundamental. <br>\n",
                "\n",
                "Lets' see what we got here! "
            ],
            "metadata": {}
        },
        {
            "cell_type": "code",
            "execution_count": 81,
            "source": [
                "# show the best choice\n",
                "rf_random.best_params_"
            ],
            "outputs": [
                {
                    "output_type": "execute_result",
                    "data": {
                        "text/plain": [
                            "{'n_estimators': 520,\n",
                            " 'min_samples_split': 5,\n",
                            " 'min_samples_leaf': 4,\n",
                            " 'max_features': 'sqrt',\n",
                            " 'max_depth': 20,\n",
                            " 'bootstrap': True}"
                        ]
                    },
                    "metadata": {},
                    "execution_count": 81
                }
            ],
            "metadata": {}
        },
        {
            "cell_type": "code",
            "execution_count": 82,
            "source": [
                "# show the best accuracy\n",
                "rf_random.best_score_"
            ],
            "outputs": [
                {
                    "output_type": "execute_result",
                    "data": {
                        "text/plain": [
                            "0.6714068054850177"
                        ]
                    },
                    "metadata": {},
                    "execution_count": 82
                }
            ],
            "metadata": {}
        },
        {
            "cell_type": "markdown",
            "source": [
                "Now, we obtain our best RandomForest Classifier of accuracy = 0.67 with a 0.03 increase. But, don't forget that is our score on the training data. How about our testing data?"
            ],
            "metadata": {}
        },
        {
            "cell_type": "code",
            "execution_count": 83,
            "source": [
                "# choose the optimized model from above trails\n",
                "rf_opt = rf_random.best_estimator_\n",
                "\n",
                "# accuracy on test data\n",
                "print(\"Test Score:\", metrics.accuracy_score(labels_test, rf_opt.predict(features_test)))"
            ],
            "outputs": [
                {
                    "output_type": "stream",
                    "name": "stdout",
                    "text": [
                        "Test Score: 0.6511156186612576\n"
                    ]
                }
            ],
            "metadata": {}
        },
        {
            "cell_type": "markdown",
            "source": [
                "Humm, it seems nonthing has changed. It is likely that our algorithm is not an expert dealing with our data. What about another algorithm? <br>\n",
                "\n",
                "### **RidgeClassifier**\n",
                "\n",
                "Similarly, we will first do the very basic example."
            ],
            "metadata": {}
        },
        {
            "cell_type": "code",
            "execution_count": 84,
            "source": [
                "from sklearn.linear_model import RidgeClassifier\n",
                "\n",
                "# initialize the model\n",
                "rc = RidgeClassifier()\n",
                "\n",
                "# preview the parameters of the model\n",
                "print(rc)"
            ],
            "outputs": [
                {
                    "output_type": "stream",
                    "name": "stdout",
                    "text": [
                        "RidgeClassifier(alpha=1.0, class_weight=None, copy_X=True, fit_intercept=True,\n",
                        "                max_iter=None, normalize=False, random_state=None,\n",
                        "                solver='auto', tol=0.001)\n"
                    ]
                }
            ],
            "metadata": {}
        },
        {
            "cell_type": "code",
            "execution_count": 85,
            "source": [
                "# train the model\n",
                "rc.fit(features_train, labels_train)\n",
                "\n",
                "# accuracy based on trainning data\n",
                "score = rc.score(features_train, labels_train)\n",
                "print(\"Train Score: \", score)\n",
                "\n",
                "# cross-validated accuracy based on trainning data\n",
                "cv_scores = cross_val_score(rc, features_train, labels_train, cv=10)\n",
                "print(\"CV average score: %.2f\" % cv_scores.mean())\n",
                "\n",
                "# prediction accuracy\n",
                "print(\"Test Score: \", rc.score(features_test, labels_test))"
            ],
            "outputs": [
                {
                    "output_type": "stream",
                    "name": "stdout",
                    "text": [
                        "Train Score:  0.664804469273743\n",
                        "CV average score: 0.66\n",
                        "Test Score:  0.6511156186612576\n"
                    ]
                }
            ],
            "metadata": {}
        },
        {
            "cell_type": "markdown",
            "source": [
                "Hold on before tuning the model. It looks like quite coincident that all our three models gives predictions of around 0.65 accuracy. Apart form the cold numbers, do we have a **detailed report** about what is going on inside our test? Certainly!"
            ],
            "metadata": {}
        },
        {
            "cell_type": "code",
            "execution_count": 86,
            "source": [
                "# output the test report\n",
                "from sklearn.metrics import classification_report\n",
                "\n",
                "print(classification_report(labels_test, pred))"
            ],
            "outputs": [
                {
                    "output_type": "stream",
                    "name": "stdout",
                    "text": [
                        "              precision    recall  f1-score   support\n",
                        "\n",
                        "           B       0.68      0.94      0.79       321\n",
                        "           C       0.21      0.04      0.07        73\n",
                        "           D       0.00      0.00      0.00        14\n",
                        "           E       0.00      0.00      0.00         9\n",
                        "           F       0.33      0.12      0.17        26\n",
                        "           G       0.58      0.30      0.39        50\n",
                        "\n",
                        "    accuracy                           0.65       493\n",
                        "   macro avg       0.30      0.23      0.24       493\n",
                        "weighted avg       0.55      0.65      0.57       493\n",
                        "\n"
                    ]
                }
            ],
            "metadata": {}
        },
        {
            "cell_type": "markdown",
            "source": [
                "In the matrix, we find all possible `labels` in the left column and some confusing terms in the top row. What are they?\n",
                "- **Precision**: the number/ratio of positive class predictions that actually belong to the positive class. (correct predictions);\n",
                "- **Recall**: the number/raio of positive class predictions made out of all positive examples in the dataset. (eg. total 'B' predictions);\n",
                "- **F1-score**: the single score that balances both the concerns of precision and recall in one number;\n",
                "- **Support**: the number of certain cases in the prediction. <br>\n",
                "\n",
                "From the report, we generally find the detailed problem of our model: insufficient/biased training data for classification. It is understandable that the maginitude of wildfires depends on not only temperature, wind, or humidity, but also geographical factors: the shape of the mountain, the vegetation of the region, and the human resources engaged in controlling the fire. This implies the importance of the comprehensiveness of data sets and illunimates what can we do to prove our models."
            ],
            "metadata": {}
        }
    ],
    "metadata": {
        "orig_nbformat": 4,
        "language_info": {
            "name": "python",
            "version": "3.7.5",
            "mimetype": "text/x-python",
            "codemirror_mode": {
                "name": "ipython",
                "version": 3
            },
            "pygments_lexer": "ipython3",
            "nbconvert_exporter": "python",
            "file_extension": ".py"
        },
        "kernelspec": {
            "name": "python3",
            "display_name": "Python 3.7.5 64-bit ('cse163': conda)"
        },
        "interpreter": {
            "hash": "eb0ef345f182d5544068c9b359f219ebd829ef39d26f94d6f8ac4d1b7a14f6eb"
        }
    },
    "nbformat": 4,
    "nbformat_minor": 2
}
